{
 "cells": [
  {
   "cell_type": "code",
   "execution_count": 1,
   "metadata": {},
   "outputs": [],
   "source": [
    "# Z-Score"
   ]
  },
  {
   "cell_type": "code",
   "execution_count": 2,
   "metadata": {},
   "outputs": [],
   "source": [
    "# z -Score tells us how many standard deviations away a value is from the mean\n",
    "# we use the following formula to calculate a z-score:\n",
    "# z = (X – μ) / σ\n",
    "# scipy.stats.zscore\n",
    "# scipy.stats.zscore(data, axis= 0, ddof = 0, nan_policy='propagate')\n",
    "# data: an array like object containing data\n",
    "# axis: the axis along which to calculate the z-scores. Default is 0.\n",
    "# ddof: degrees of freedom correction in the calculation of the standard deviation.Default is 0.\n",
    "# nan_policy: how to handle when input contain nan. Default is propagate, which returns nan.\n",
    "# 'raise' throws an error and 'omit' performs calculations ignoreing nan values. "
   ]
  },
  {
   "cell_type": "code",
   "execution_count": 4,
   "metadata": {},
   "outputs": [],
   "source": [
    "import numpy as np\n",
    "import pandas as pd\n",
    "import scipy.stats as stats"
   ]
  },
  {
   "cell_type": "code",
   "execution_count": 5,
   "metadata": {},
   "outputs": [
    {
     "data": {
      "text/plain": [
       "array([-0.56011203, -1.40028008, -1.40028008,  0.56011203,  0.56011203,\n",
       "        0.56011203,  0.        ,  1.6803361 ])"
      ]
     },
     "execution_count": 5,
     "metadata": {},
     "output_type": "execute_result"
    }
   ],
   "source": [
    "data = np.array ([8, 5,5,12,12,12,10,16])\n",
    "stats.zscore(data)\n"
   ]
  },
  {
   "cell_type": "code",
   "execution_count": 6,
   "metadata": {},
   "outputs": [
    {
     "name": "stdout",
     "output_type": "stream",
     "text": [
      "10.0\n"
     ]
    }
   ],
   "source": [
    "print(np.mean(data))"
   ]
  },
  {
   "cell_type": "code",
   "execution_count": 7,
   "metadata": {},
   "outputs": [
    {
     "name": "stdout",
     "output_type": "stream",
     "text": [
      "3.570714214271425\n"
     ]
    }
   ],
   "source": [
    "print(np.std(data))"
   ]
  },
  {
   "cell_type": "code",
   "execution_count": 8,
   "metadata": {},
   "outputs": [],
   "source": [
    "# Which means......\n",
    "# The first value 8 is 0.56011203 standard deviations below the mean\n",
    "# The value 10 is 0 standard deviations away from the mean\n",
    "# The value 16 is 1.6803361 standard deviations above the mean"
   ]
  },
  {
   "cell_type": "code",
   "execution_count": 9,
   "metadata": {},
   "outputs": [
    {
     "data": {
      "text/plain": [
       "array([[-1.34164079, -0.4472136 ,  0.4472136 ,  1.34164079],\n",
       "       [-1.34164079, -0.4472136 ,  0.4472136 ,  1.34164079],\n",
       "       [-1.34164079, -0.4472136 ,  0.4472136 ,  1.34164079]])"
      ]
     },
     "execution_count": 9,
     "metadata": {},
     "output_type": "execute_result"
    }
   ],
   "source": [
    "# Multi-Dimensional Arrays\n",
    "\n",
    "data = np.array([[1,2,3,4],\n",
    "                 [5, 6,7,8],\n",
    "                 [9,10,11,12]])\n",
    "stats.zscore(data, axis=1)\n",
    "\n",
    "# The first value of  '1' in the first array is 1.3416079 standard deviation below the mean of its array\n"
   ]
  },
  {
   "cell_type": "code",
   "execution_count": 12,
   "metadata": {},
   "outputs": [],
   "source": [
    "# Using Pandas DataFrames\n",
    "data = pd.DataFrame(np.random.randint(0, 15, size=(5,5)), columns = ['A','B','C','D','E'])"
   ]
  },
  {
   "cell_type": "code",
   "execution_count": 13,
   "metadata": {},
   "outputs": [
    {
     "data": {
      "text/html": [
       "<div>\n",
       "<style scoped>\n",
       "    .dataframe tbody tr th:only-of-type {\n",
       "        vertical-align: middle;\n",
       "    }\n",
       "\n",
       "    .dataframe tbody tr th {\n",
       "        vertical-align: top;\n",
       "    }\n",
       "\n",
       "    .dataframe thead th {\n",
       "        text-align: right;\n",
       "    }\n",
       "</style>\n",
       "<table border=\"1\" class=\"dataframe\">\n",
       "  <thead>\n",
       "    <tr style=\"text-align: right;\">\n",
       "      <th></th>\n",
       "      <th>A</th>\n",
       "      <th>B</th>\n",
       "      <th>C</th>\n",
       "      <th>D</th>\n",
       "      <th>E</th>\n",
       "    </tr>\n",
       "  </thead>\n",
       "  <tbody>\n",
       "    <tr>\n",
       "      <th>0</th>\n",
       "      <td>6</td>\n",
       "      <td>3</td>\n",
       "      <td>4</td>\n",
       "      <td>2</td>\n",
       "      <td>8</td>\n",
       "    </tr>\n",
       "    <tr>\n",
       "      <th>1</th>\n",
       "      <td>4</td>\n",
       "      <td>4</td>\n",
       "      <td>2</td>\n",
       "      <td>4</td>\n",
       "      <td>14</td>\n",
       "    </tr>\n",
       "    <tr>\n",
       "      <th>2</th>\n",
       "      <td>3</td>\n",
       "      <td>10</td>\n",
       "      <td>13</td>\n",
       "      <td>7</td>\n",
       "      <td>5</td>\n",
       "    </tr>\n",
       "    <tr>\n",
       "      <th>3</th>\n",
       "      <td>4</td>\n",
       "      <td>0</td>\n",
       "      <td>14</td>\n",
       "      <td>12</td>\n",
       "      <td>13</td>\n",
       "    </tr>\n",
       "    <tr>\n",
       "      <th>4</th>\n",
       "      <td>4</td>\n",
       "      <td>4</td>\n",
       "      <td>7</td>\n",
       "      <td>13</td>\n",
       "      <td>11</td>\n",
       "    </tr>\n",
       "  </tbody>\n",
       "</table>\n",
       "</div>"
      ],
      "text/plain": [
       "   A   B   C   D   E\n",
       "0  6   3   4   2   8\n",
       "1  4   4   2   4  14\n",
       "2  3  10  13   7   5\n",
       "3  4   0  14  12  13\n",
       "4  4   4   7  13  11"
      ]
     },
     "execution_count": 13,
     "metadata": {},
     "output_type": "execute_result"
    }
   ],
   "source": [
    "data"
   ]
  },
  {
   "cell_type": "code",
   "execution_count": 14,
   "metadata": {},
   "outputs": [
    {
     "data": {
      "text/html": [
       "<div>\n",
       "<style scoped>\n",
       "    .dataframe tbody tr th:only-of-type {\n",
       "        vertical-align: middle;\n",
       "    }\n",
       "\n",
       "    .dataframe tbody tr th {\n",
       "        vertical-align: top;\n",
       "    }\n",
       "\n",
       "    .dataframe thead th {\n",
       "        text-align: right;\n",
       "    }\n",
       "</style>\n",
       "<table border=\"1\" class=\"dataframe\">\n",
       "  <thead>\n",
       "    <tr style=\"text-align: right;\">\n",
       "      <th></th>\n",
       "      <th>A</th>\n",
       "      <th>B</th>\n",
       "      <th>C</th>\n",
       "      <th>D</th>\n",
       "      <th>E</th>\n",
       "    </tr>\n",
       "  </thead>\n",
       "  <tbody>\n",
       "    <tr>\n",
       "      <th>0</th>\n",
       "      <td>1.837117</td>\n",
       "      <td>-0.369274</td>\n",
       "      <td>-0.837708</td>\n",
       "      <td>-1.297075</td>\n",
       "      <td>-0.664534</td>\n",
       "    </tr>\n",
       "    <tr>\n",
       "      <th>1</th>\n",
       "      <td>-0.204124</td>\n",
       "      <td>-0.061546</td>\n",
       "      <td>-1.256562</td>\n",
       "      <td>-0.833834</td>\n",
       "      <td>1.147832</td>\n",
       "    </tr>\n",
       "    <tr>\n",
       "      <th>2</th>\n",
       "      <td>-1.224745</td>\n",
       "      <td>1.784827</td>\n",
       "      <td>1.047135</td>\n",
       "      <td>-0.138972</td>\n",
       "      <td>-1.570717</td>\n",
       "    </tr>\n",
       "    <tr>\n",
       "      <th>3</th>\n",
       "      <td>-0.204124</td>\n",
       "      <td>-1.292461</td>\n",
       "      <td>1.256562</td>\n",
       "      <td>1.019130</td>\n",
       "      <td>0.845771</td>\n",
       "    </tr>\n",
       "    <tr>\n",
       "      <th>4</th>\n",
       "      <td>-0.204124</td>\n",
       "      <td>-0.061546</td>\n",
       "      <td>-0.209427</td>\n",
       "      <td>1.250751</td>\n",
       "      <td>0.241649</td>\n",
       "    </tr>\n",
       "  </tbody>\n",
       "</table>\n",
       "</div>"
      ],
      "text/plain": [
       "          A         B         C         D         E\n",
       "0  1.837117 -0.369274 -0.837708 -1.297075 -0.664534\n",
       "1 -0.204124 -0.061546 -1.256562 -0.833834  1.147832\n",
       "2 -1.224745  1.784827  1.047135 -0.138972 -1.570717\n",
       "3 -0.204124 -1.292461  1.256562  1.019130  0.845771\n",
       "4 -0.204124 -0.061546 -0.209427  1.250751  0.241649"
      ]
     },
     "execution_count": 14,
     "metadata": {},
     "output_type": "execute_result"
    }
   ],
   "source": [
    "data.apply (stats.zscore)\n",
    "# the first value of '11' in the first column is 1.248040 standard deviatin above mean value of its column"
   ]
  },
  {
   "cell_type": "code",
   "execution_count": 15,
   "metadata": {},
   "outputs": [
    {
     "data": {
      "text/plain": [
       "0.1216417367479479"
      ]
     },
     "execution_count": 15,
     "metadata": {},
     "output_type": "execute_result"
    }
   ],
   "source": [
    "# Determining the p-value associated with a certain t-score that results from a hypothesis test\n",
    "# Syntax:  scipy.stats.t.sf()\n",
    "# scipy.stats.t.sf(abs(x), df) .....where x is t-score and df is degree of freedom\n",
    "# Left-tailed test\n",
    "import scipy.stats\n",
    "#find p-value\n",
    "pValue = scipy.stats.t.sf(abs(-1.24), df=10)\n",
    "pValue\n",
    "# The p-value is 0.1216. If we use a significance level of α = 0.05, we would fail to reject the null hypothesis"
   ]
  },
  {
   "cell_type": "code",
   "execution_count": 16,
   "metadata": {},
   "outputs": [
    {
     "data": {
      "text/plain": [
       "0.1216417367479479"
      ]
     },
     "execution_count": 16,
     "metadata": {},
     "output_type": "execute_result"
    }
   ],
   "source": [
    "# Right-tailed test\n",
    "pValue = scipy.stats.t.sf(abs(1.24), df=10)\n",
    "pValue\n",
    "# The p-value is 0.1216. If we use a significance level of α = 0.05, we would fail to reject the null hypothesis\n"
   ]
  },
  {
   "cell_type": "code",
   "execution_count": 17,
   "metadata": {},
   "outputs": [
    {
     "name": "stdout",
     "output_type": "stream",
     "text": [
      "Left tail test value is:  0.2742531177500736\n",
      "Right tail test value is:  0.06680720126885807\n",
      "Two tail test value is:  0.4237107971667934\n"
     ]
    }
   ],
   "source": [
    "# Z-Score test\n",
    "# Syntax: scipy.stats.norm.sf(abs(x)) where x is z-score\n",
    "\n",
    "# Left-tailed test\n",
    "z_lt = scipy.stats.norm.sf(abs(-0.60))\n",
    "print('Left tail test value is: ', z_lt)\n",
    "# Right-tailed test\n",
    "z_rt = scipy.stats.norm.sf(abs(1.5))\n",
    "print('Right tail test value is: ',z_rt)\n",
    "# Two-tailed test\n",
    "z_2t = scipy.stats.norm.sf(abs(0.8))*2\n",
    "print('Two tail test value is: ',z_2t)"
   ]
  },
  {
   "cell_type": "code",
   "execution_count": null,
   "metadata": {},
   "outputs": [],
   "source": []
  }
 ],
 "metadata": {
  "kernelspec": {
   "display_name": "Python 3",
   "language": "python",
   "name": "python3"
  },
  "language_info": {
   "codemirror_mode": {
    "name": "ipython",
    "version": 3
   },
   "file_extension": ".py",
   "mimetype": "text/x-python",
   "name": "python",
   "nbconvert_exporter": "python",
   "pygments_lexer": "ipython3",
   "version": "3.7.6"
  }
 },
 "nbformat": 4,
 "nbformat_minor": 4
}
