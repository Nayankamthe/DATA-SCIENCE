{
 "cells": [
  {
   "cell_type": "code",
   "execution_count": 1,
   "metadata": {},
   "outputs": [],
   "source": [
    "# Z- Score"
   ]
  },
  {
   "cell_type": "code",
   "execution_count": 2,
   "metadata": {},
   "outputs": [],
   "source": [
    "# z-score tells us how many standard deviations away a value is from the mean\n",
    "# We use the following formula to calculate a z-score:\n",
    "# z = (X – μ) / σ\n",
    "\n",
    "# scipy.stats.zscore\n",
    "# scipy.stats.zscore(data, axis=0, ddof=0, nan_policy=’propagate’)\n",
    "# data: an array like object containing data\n",
    "# axis: the axis along which to calculate the z-scores. Default is 0.\n",
    "# ddof: degrees of freedom correction in the calculation of the standard deviation. Default is 0.\n",
    "# nan_policy: how to handle when input contains nan. Default is propagate, which returns nan. \n",
    "#             ‘raise’ throws an error and ‘omit’ performs calculations ignoring nan values.\n"
   ]
  },
  {
   "cell_type": "code",
   "execution_count": 3,
   "metadata": {},
   "outputs": [],
   "source": [
    "import numpy as np\n",
    "import pandas as pd\n",
    "import scipy.stats as stats"
   ]
  },
  {
   "cell_type": "code",
   "execution_count": 4,
   "metadata": {},
   "outputs": [
    {
     "data": {
      "text/plain": [
       "array([-0.83805407, -1.76432437,  0.39697298,  0.39697298,  0.39697298,\n",
       "       -0.22054055,  1.63200004])"
      ]
     },
     "execution_count": 4,
     "metadata": {},
     "output_type": "execute_result"
    }
   ],
   "source": [
    "data = np.array([8,5,12,12,12,10,16])\n",
    "stats.zscore(data)\n"
   ]
  },
  {
   "cell_type": "code",
   "execution_count": 5,
   "metadata": {},
   "outputs": [
    {
     "name": "stdout",
     "output_type": "stream",
     "text": [
      "10.714285714285714\n"
     ]
    }
   ],
   "source": [
    "print(np.mean(data))\n"
   ]
  },
  {
   "cell_type": "code",
   "execution_count": 6,
   "metadata": {},
   "outputs": [
    {
     "name": "stdout",
     "output_type": "stream",
     "text": [
      "3.2387954425013237\n"
     ]
    }
   ],
   "source": [
    "print(np.std(data))\n"
   ]
  },
  {
   "cell_type": "code",
   "execution_count": 7,
   "metadata": {},
   "outputs": [],
   "source": [
    "# which means....\n",
    "# The first value 8 is 0.56011203 standard deviations below the mean\n",
    "# The value 10 is 0 standard deviations away from the mean\n",
    "# the value 16 is 1.6803361 statndard deviations above the mean"
   ]
  },
  {
   "cell_type": "code",
   "execution_count": 12,
   "metadata": {},
   "outputs": [
    {
     "data": {
      "text/plain": [
       "array([[-1.34164079, -0.4472136 ,  0.4472136 ,  1.34164079],\n",
       "       [-1.34164079, -0.4472136 ,  0.4472136 ,  1.34164079],\n",
       "       [-1.34164079, -0.4472136 ,  0.4472136 ,  1.34164079]])"
      ]
     },
     "execution_count": 12,
     "metadata": {},
     "output_type": "execute_result"
    }
   ],
   "source": [
    "# Multi- Dimensinal Arrays\n",
    "\n",
    "data = np.array([[1,2,3,4],\n",
    "                [5,6,7,8],\n",
    "                [9,10,11,12]])\n",
    "stats.zscore(data, axis=1)\n",
    "# The first value of \"1\" in the first array is 1.34164079 statndard deviations below the means of its array. "
   ]
  },
  {
   "cell_type": "code",
   "execution_count": 10,
   "metadata": {},
   "outputs": [
    {
     "name": "stdout",
     "output_type": "stream",
     "text": [
      "6.5\n"
     ]
    }
   ],
   "source": [
    "print(np.mean(data))"
   ]
  },
  {
   "cell_type": "code",
   "execution_count": 14,
   "metadata": {},
   "outputs": [
    {
     "data": {
      "text/html": [
       "<div>\n",
       "<style scoped>\n",
       "    .dataframe tbody tr th:only-of-type {\n",
       "        vertical-align: middle;\n",
       "    }\n",
       "\n",
       "    .dataframe tbody tr th {\n",
       "        vertical-align: top;\n",
       "    }\n",
       "\n",
       "    .dataframe thead th {\n",
       "        text-align: right;\n",
       "    }\n",
       "</style>\n",
       "<table border=\"1\" class=\"dataframe\">\n",
       "  <thead>\n",
       "    <tr style=\"text-align: right;\">\n",
       "      <th></th>\n",
       "      <th>A</th>\n",
       "      <th>B</th>\n",
       "      <th>C</th>\n",
       "      <th>D</th>\n",
       "      <th>E</th>\n",
       "    </tr>\n",
       "  </thead>\n",
       "  <tbody>\n",
       "    <tr>\n",
       "      <th>0</th>\n",
       "      <td>3</td>\n",
       "      <td>10</td>\n",
       "      <td>2</td>\n",
       "      <td>2</td>\n",
       "      <td>0</td>\n",
       "    </tr>\n",
       "    <tr>\n",
       "      <th>1</th>\n",
       "      <td>5</td>\n",
       "      <td>1</td>\n",
       "      <td>10</td>\n",
       "      <td>13</td>\n",
       "      <td>12</td>\n",
       "    </tr>\n",
       "    <tr>\n",
       "      <th>2</th>\n",
       "      <td>10</td>\n",
       "      <td>0</td>\n",
       "      <td>3</td>\n",
       "      <td>8</td>\n",
       "      <td>3</td>\n",
       "    </tr>\n",
       "    <tr>\n",
       "      <th>3</th>\n",
       "      <td>13</td>\n",
       "      <td>5</td>\n",
       "      <td>5</td>\n",
       "      <td>8</td>\n",
       "      <td>9</td>\n",
       "    </tr>\n",
       "    <tr>\n",
       "      <th>4</th>\n",
       "      <td>0</td>\n",
       "      <td>14</td>\n",
       "      <td>0</td>\n",
       "      <td>5</td>\n",
       "      <td>11</td>\n",
       "    </tr>\n",
       "  </tbody>\n",
       "</table>\n",
       "</div>"
      ],
      "text/plain": [
       "    A   B   C   D   E\n",
       "0   3  10   2   2   0\n",
       "1   5   1  10  13  12\n",
       "2  10   0   3   8   3\n",
       "3  13   5   5   8   9\n",
       "4   0  14   0   5  11"
      ]
     },
     "execution_count": 14,
     "metadata": {},
     "output_type": "execute_result"
    }
   ],
   "source": [
    "# using Pandas DataFrames\n",
    "data= pd.DataFrame(np.random.randint(0,15,size =(5,5)), columns=['A','B','C','D','E'])\n",
    "data"
   ]
  },
  {
   "cell_type": "code",
   "execution_count": 15,
   "metadata": {},
   "outputs": [
    {
     "data": {
      "text/html": [
       "<div>\n",
       "<style scoped>\n",
       "    .dataframe tbody tr th:only-of-type {\n",
       "        vertical-align: middle;\n",
       "    }\n",
       "\n",
       "    .dataframe tbody tr th {\n",
       "        vertical-align: top;\n",
       "    }\n",
       "\n",
       "    .dataframe thead th {\n",
       "        text-align: right;\n",
       "    }\n",
       "</style>\n",
       "<table border=\"1\" class=\"dataframe\">\n",
       "  <thead>\n",
       "    <tr style=\"text-align: right;\">\n",
       "      <th></th>\n",
       "      <th>A</th>\n",
       "      <th>B</th>\n",
       "      <th>C</th>\n",
       "      <th>D</th>\n",
       "      <th>E</th>\n",
       "    </tr>\n",
       "  </thead>\n",
       "  <tbody>\n",
       "    <tr>\n",
       "      <th>0</th>\n",
       "      <td>-0.679775</td>\n",
       "      <td>0.750587</td>\n",
       "      <td>-0.587220</td>\n",
       "      <td>-1.422657</td>\n",
       "      <td>-1.492405</td>\n",
       "    </tr>\n",
       "    <tr>\n",
       "      <th>1</th>\n",
       "      <td>-0.254916</td>\n",
       "      <td>-0.938233</td>\n",
       "      <td>1.761661</td>\n",
       "      <td>1.586809</td>\n",
       "      <td>1.066004</td>\n",
       "    </tr>\n",
       "    <tr>\n",
       "      <th>2</th>\n",
       "      <td>0.807233</td>\n",
       "      <td>-1.125880</td>\n",
       "      <td>-0.293610</td>\n",
       "      <td>0.218870</td>\n",
       "      <td>-0.852803</td>\n",
       "    </tr>\n",
       "    <tr>\n",
       "      <th>3</th>\n",
       "      <td>1.444522</td>\n",
       "      <td>-0.187647</td>\n",
       "      <td>0.293610</td>\n",
       "      <td>0.218870</td>\n",
       "      <td>0.426401</td>\n",
       "    </tr>\n",
       "    <tr>\n",
       "      <th>4</th>\n",
       "      <td>-1.317064</td>\n",
       "      <td>1.501173</td>\n",
       "      <td>-1.174440</td>\n",
       "      <td>-0.601893</td>\n",
       "      <td>0.852803</td>\n",
       "    </tr>\n",
       "  </tbody>\n",
       "</table>\n",
       "</div>"
      ],
      "text/plain": [
       "          A         B         C         D         E\n",
       "0 -0.679775  0.750587 -0.587220 -1.422657 -1.492405\n",
       "1 -0.254916 -0.938233  1.761661  1.586809  1.066004\n",
       "2  0.807233 -1.125880 -0.293610  0.218870 -0.852803\n",
       "3  1.444522 -0.187647  0.293610  0.218870  0.426401\n",
       "4 -1.317064  1.501173 -1.174440 -0.601893  0.852803"
      ]
     },
     "execution_count": 15,
     "metadata": {},
     "output_type": "execute_result"
    }
   ],
   "source": [
    "data.apply(stats.zscore)\n",
    "# The first value of\"11\" in the first column is 1.248040 standard deviation above the mean value of its column."
   ]
  },
  {
   "cell_type": "code",
   "execution_count": 16,
   "metadata": {},
   "outputs": [
    {
     "name": "stdout",
     "output_type": "stream",
     "text": [
      "A    6.2\n",
      "B    6.0\n",
      "C    4.0\n",
      "D    7.2\n",
      "E    7.0\n",
      "dtype: float64\n"
     ]
    }
   ],
   "source": [
    "print(np.mean(data))"
   ]
  },
  {
   "cell_type": "code",
   "execution_count": 17,
   "metadata": {},
   "outputs": [
    {
     "data": {
      "text/plain": [
       "0.1216417367479479"
      ]
     },
     "execution_count": 17,
     "metadata": {},
     "output_type": "execute_result"
    }
   ],
   "source": [
    "# Determining the p-value associated with a certain t-score that results from a hypothesis test.\n",
    "# Syntax: scipy.stats.t.sf()\n",
    "# scipy.stats.t.sf(abs(x), df) .... where x is t-score and df is degree of freedom\n",
    "\n",
    "# Left-tailed test\n",
    "import scipy.stats\n",
    "# find p- value\n",
    "pValue = scipy.stats.t.sf(abs(-1.24), df =10)\n",
    "pValue\n",
    "# The p-value is 0.1216. If we use a significance level of a= 0.05, we will fail to reject the null hypothesis."
   ]
  },
  {
   "cell_type": "code",
   "execution_count": 19,
   "metadata": {},
   "outputs": [
    {
     "data": {
      "text/plain": [
       "0.22803901531680093"
      ]
     },
     "execution_count": 19,
     "metadata": {},
     "output_type": "execute_result"
    }
   ],
   "source": [
    "# Two- tailed test \n",
    "scipy.stats.t.sf(abs(1.24),df= 22)*2"
   ]
  },
  {
   "cell_type": "code",
   "execution_count": 20,
   "metadata": {},
   "outputs": [
    {
     "name": "stdout",
     "output_type": "stream",
     "text": [
      "Left tail text value is : 0.2742531177500736\n",
      "Right tail test value is : 0.06680720126885807\n",
      "Two tail test value is : 0.4237107971667934\n"
     ]
    }
   ],
   "source": [
    "# Z-Score test\n",
    "# Syntax: scipy.stats.norm.sf(abs(X)) where x is z-score\n",
    "\n",
    "# left-tailed test\n",
    "z_lt = scipy.stats.norm.sf(abs(-0.60))\n",
    "print('Left tail text value is :', z_lt)\n",
    "# Right-tailed test\n",
    "z_rt = scipy.stats.norm.sf(abs(1.5))\n",
    "print('Right tail test value is :', z_rt)\n",
    "# Two-tailed test\n",
    "z_2t = scipy.stats.norm.sf(abs(0.8))*2\n",
    "print(\"Two tail test value is :\",z_2t)"
   ]
  },
  {
   "cell_type": "code",
   "execution_count": null,
   "metadata": {},
   "outputs": [],
   "source": []
  }
 ],
 "metadata": {
  "kernelspec": {
   "display_name": "Python 3",
   "language": "python",
   "name": "python3"
  },
  "language_info": {
   "codemirror_mode": {
    "name": "ipython",
    "version": 3
   },
   "file_extension": ".py",
   "mimetype": "text/x-python",
   "name": "python",
   "nbconvert_exporter": "python",
   "pygments_lexer": "ipython3",
   "version": "3.7.6"
  }
 },
 "nbformat": 4,
 "nbformat_minor": 4
}
