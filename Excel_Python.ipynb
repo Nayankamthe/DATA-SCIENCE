{
 "cells": [
  {
   "cell_type": "code",
   "execution_count": 1,
   "metadata": {},
   "outputs": [],
   "source": [
    "# Illustration of Discriptive Statistics concepts that u learnt using excel\n",
    "\n",
    "# 1. Percentile\n"
   ]
  },
  {
   "cell_type": "code",
   "execution_count": 1,
   "metadata": {},
   "outputs": [],
   "source": [
    "# Import the libraries\n",
    "\n",
    "import numpy as np\n",
    "import pandas as pd"
   ]
  },
  {
   "cell_type": "code",
   "execution_count": 4,
   "metadata": {},
   "outputs": [
    {
     "data": {
      "text/html": [
       "<div>\n",
       "<style scoped>\n",
       "    .dataframe tbody tr th:only-of-type {\n",
       "        vertical-align: middle;\n",
       "    }\n",
       "\n",
       "    .dataframe tbody tr th {\n",
       "        vertical-align: top;\n",
       "    }\n",
       "\n",
       "    .dataframe thead th {\n",
       "        text-align: right;\n",
       "    }\n",
       "</style>\n",
       "<table border=\"1\" class=\"dataframe\">\n",
       "  <thead>\n",
       "    <tr style=\"text-align: right;\">\n",
       "      <th></th>\n",
       "      <th>ID</th>\n",
       "      <th>Gender</th>\n",
       "      <th>Birth Date</th>\n",
       "      <th>Jobcat</th>\n",
       "      <th>Salary</th>\n",
       "      <th>Job Time</th>\n",
       "      <th>Prev Exp</th>\n",
       "      <th>Minority</th>\n",
       "    </tr>\n",
       "  </thead>\n",
       "  <tbody>\n",
       "    <tr>\n",
       "      <th>0</th>\n",
       "      <td>1</td>\n",
       "      <td>m</td>\n",
       "      <td>1952-02-03</td>\n",
       "      <td>3</td>\n",
       "      <td>57000</td>\n",
       "      <td>98</td>\n",
       "      <td>144</td>\n",
       "      <td>0</td>\n",
       "    </tr>\n",
       "    <tr>\n",
       "      <th>1</th>\n",
       "      <td>2</td>\n",
       "      <td>m</td>\n",
       "      <td>1958-05-23</td>\n",
       "      <td>1</td>\n",
       "      <td>40200</td>\n",
       "      <td>98</td>\n",
       "      <td>36</td>\n",
       "      <td>0</td>\n",
       "    </tr>\n",
       "    <tr>\n",
       "      <th>2</th>\n",
       "      <td>3</td>\n",
       "      <td>f</td>\n",
       "      <td>1929-07-26</td>\n",
       "      <td>1</td>\n",
       "      <td>21450</td>\n",
       "      <td>98</td>\n",
       "      <td>381</td>\n",
       "      <td>0</td>\n",
       "    </tr>\n",
       "    <tr>\n",
       "      <th>3</th>\n",
       "      <td>4</td>\n",
       "      <td>f</td>\n",
       "      <td>1947-04-15</td>\n",
       "      <td>1</td>\n",
       "      <td>21900</td>\n",
       "      <td>98</td>\n",
       "      <td>190</td>\n",
       "      <td>0</td>\n",
       "    </tr>\n",
       "    <tr>\n",
       "      <th>4</th>\n",
       "      <td>5</td>\n",
       "      <td>m</td>\n",
       "      <td>1955-02-09</td>\n",
       "      <td>1</td>\n",
       "      <td>45000</td>\n",
       "      <td>98</td>\n",
       "      <td>138</td>\n",
       "      <td>0</td>\n",
       "    </tr>\n",
       "    <tr>\n",
       "      <th>5</th>\n",
       "      <td>6</td>\n",
       "      <td>m</td>\n",
       "      <td>1958-08-22</td>\n",
       "      <td>1</td>\n",
       "      <td>32100</td>\n",
       "      <td>98</td>\n",
       "      <td>67</td>\n",
       "      <td>0</td>\n",
       "    </tr>\n",
       "    <tr>\n",
       "      <th>6</th>\n",
       "      <td>7</td>\n",
       "      <td>m</td>\n",
       "      <td>1956-04-26</td>\n",
       "      <td>1</td>\n",
       "      <td>36000</td>\n",
       "      <td>98</td>\n",
       "      <td>114</td>\n",
       "      <td>0</td>\n",
       "    </tr>\n",
       "    <tr>\n",
       "      <th>7</th>\n",
       "      <td>8</td>\n",
       "      <td>f</td>\n",
       "      <td>1966-05-06</td>\n",
       "      <td>1</td>\n",
       "      <td>21900</td>\n",
       "      <td>98</td>\n",
       "      <td>0</td>\n",
       "      <td>0</td>\n",
       "    </tr>\n",
       "    <tr>\n",
       "      <th>8</th>\n",
       "      <td>9</td>\n",
       "      <td>f</td>\n",
       "      <td>1946-01-23</td>\n",
       "      <td>1</td>\n",
       "      <td>27900</td>\n",
       "      <td>98</td>\n",
       "      <td>115</td>\n",
       "      <td>0</td>\n",
       "    </tr>\n",
       "    <tr>\n",
       "      <th>9</th>\n",
       "      <td>10</td>\n",
       "      <td>f</td>\n",
       "      <td>1946-02-13</td>\n",
       "      <td>1</td>\n",
       "      <td>24000</td>\n",
       "      <td>98</td>\n",
       "      <td>244</td>\n",
       "      <td>0</td>\n",
       "    </tr>\n",
       "  </tbody>\n",
       "</table>\n",
       "</div>"
      ],
      "text/plain": [
       "   ID Gender Birth Date  Jobcat  Salary  Job Time  Prev Exp  Minority\n",
       "0   1      m 1952-02-03       3   57000        98       144         0\n",
       "1   2      m 1958-05-23       1   40200        98        36         0\n",
       "2   3      f 1929-07-26       1   21450        98       381         0\n",
       "3   4      f 1947-04-15       1   21900        98       190         0\n",
       "4   5      m 1955-02-09       1   45000        98       138         0\n",
       "5   6      m 1958-08-22       1   32100        98        67         0\n",
       "6   7      m 1956-04-26       1   36000        98       114         0\n",
       "7   8      f 1966-05-06       1   21900        98         0         0\n",
       "8   9      f 1946-01-23       1   27900        98       115         0\n",
       "9  10      f 1946-02-13       1   24000        98       244         0"
      ]
     },
     "execution_count": 4,
     "metadata": {},
     "output_type": "execute_result"
    }
   ],
   "source": [
    "# finding out percentile\n",
    "# function - numpy.percentile(var, value)\n",
    "\n",
    "empData = pd.read_excel(r'D:/Harie/Data Science/Own/Emp_Sal_Data.xlsx')\n",
    "empData.head(10)"
   ]
  },
  {
   "cell_type": "code",
   "execution_count": 3,
   "metadata": {},
   "outputs": [
    {
     "data": {
      "text/plain": [
       "(474, 8)"
      ]
     },
     "execution_count": 3,
     "metadata": {},
     "output_type": "execute_result"
    }
   ],
   "source": [
    "empData.shape"
   ]
  },
  {
   "cell_type": "code",
   "execution_count": 5,
   "metadata": {},
   "outputs": [
    {
     "data": {
      "text/plain": [
       "36937.5"
      ]
     },
     "execution_count": 5,
     "metadata": {},
     "output_type": "execute_result"
    }
   ],
   "source": [
    "empSalary = np.percentile(empData['Salary'], 75)\n",
    "empSalary"
   ]
  },
  {
   "cell_type": "code",
   "execution_count": 6,
   "metadata": {},
   "outputs": [
    {
     "data": {
      "text/plain": [
       "0.1    21045.0\n",
       "0.5    28875.0\n",
       "0.7    34500.0\n",
       "Name: Salary, dtype: float64"
      ]
     },
     "execution_count": 6,
     "metadata": {},
     "output_type": "execute_result"
    }
   ],
   "source": [
    "empSal_10 = empData['Salary'].quantile([.1,.5,.7])\n",
    "empSal_10"
   ]
  },
  {
   "cell_type": "code",
   "execution_count": 7,
   "metadata": {},
   "outputs": [
    {
     "data": {
      "text/html": [
       "<div>\n",
       "<style scoped>\n",
       "    .dataframe tbody tr th:only-of-type {\n",
       "        vertical-align: middle;\n",
       "    }\n",
       "\n",
       "    .dataframe tbody tr th {\n",
       "        vertical-align: top;\n",
       "    }\n",
       "\n",
       "    .dataframe thead th {\n",
       "        text-align: right;\n",
       "    }\n",
       "</style>\n",
       "<table border=\"1\" class=\"dataframe\">\n",
       "  <thead>\n",
       "    <tr style=\"text-align: right;\">\n",
       "      <th></th>\n",
       "      <th>ID</th>\n",
       "      <th>Jobcat</th>\n",
       "      <th>Salary</th>\n",
       "      <th>Job Time</th>\n",
       "      <th>Prev Exp</th>\n",
       "      <th>Minority</th>\n",
       "    </tr>\n",
       "  </thead>\n",
       "  <tbody>\n",
       "    <tr>\n",
       "      <th>0.1</th>\n",
       "      <td>48.3</td>\n",
       "      <td>1.0</td>\n",
       "      <td>21045.0</td>\n",
       "      <td>67.0</td>\n",
       "      <td>5.0</td>\n",
       "      <td>0.0</td>\n",
       "    </tr>\n",
       "    <tr>\n",
       "      <th>0.5</th>\n",
       "      <td>237.5</td>\n",
       "      <td>1.0</td>\n",
       "      <td>28875.0</td>\n",
       "      <td>81.0</td>\n",
       "      <td>55.0</td>\n",
       "      <td>0.0</td>\n",
       "    </tr>\n",
       "    <tr>\n",
       "      <th>0.7</th>\n",
       "      <td>332.1</td>\n",
       "      <td>1.0</td>\n",
       "      <td>34500.0</td>\n",
       "      <td>88.0</td>\n",
       "      <td>116.1</td>\n",
       "      <td>0.0</td>\n",
       "    </tr>\n",
       "  </tbody>\n",
       "</table>\n",
       "</div>"
      ],
      "text/plain": [
       "        ID  Jobcat   Salary  Job Time  Prev Exp  Minority\n",
       "0.1   48.3     1.0  21045.0      67.0       5.0       0.0\n",
       "0.5  237.5     1.0  28875.0      81.0      55.0       0.0\n",
       "0.7  332.1     1.0  34500.0      88.0     116.1       0.0"
      ]
     },
     "execution_count": 7,
     "metadata": {},
     "output_type": "execute_result"
    }
   ],
   "source": [
    "empSal_11 = empData.quantile([.1,.5,.7],axis=0)\n",
    "empSal_11"
   ]
  },
  {
   "cell_type": "code",
   "execution_count": 8,
   "metadata": {},
   "outputs": [
    {
     "data": {
      "text/html": [
       "<div>\n",
       "<style scoped>\n",
       "    .dataframe tbody tr th:only-of-type {\n",
       "        vertical-align: middle;\n",
       "    }\n",
       "\n",
       "    .dataframe tbody tr th {\n",
       "        vertical-align: top;\n",
       "    }\n",
       "\n",
       "    .dataframe thead th {\n",
       "        text-align: right;\n",
       "    }\n",
       "</style>\n",
       "<table border=\"1\" class=\"dataframe\">\n",
       "  <thead>\n",
       "    <tr style=\"text-align: right;\">\n",
       "      <th></th>\n",
       "      <th>0</th>\n",
       "      <th>1</th>\n",
       "      <th>2</th>\n",
       "      <th>3</th>\n",
       "      <th>4</th>\n",
       "      <th>5</th>\n",
       "      <th>6</th>\n",
       "      <th>7</th>\n",
       "      <th>8</th>\n",
       "      <th>9</th>\n",
       "      <th>...</th>\n",
       "      <th>464</th>\n",
       "      <th>465</th>\n",
       "      <th>466</th>\n",
       "      <th>467</th>\n",
       "      <th>468</th>\n",
       "      <th>469</th>\n",
       "      <th>470</th>\n",
       "      <th>471</th>\n",
       "      <th>472</th>\n",
       "      <th>473</th>\n",
       "    </tr>\n",
       "  </thead>\n",
       "  <tbody>\n",
       "    <tr>\n",
       "      <th>0.1</th>\n",
       "      <td>0.5</td>\n",
       "      <td>0.5</td>\n",
       "      <td>0.5</td>\n",
       "      <td>0.5</td>\n",
       "      <td>0.5</td>\n",
       "      <td>0.5</td>\n",
       "      <td>0.5</td>\n",
       "      <td>0.0</td>\n",
       "      <td>0.5</td>\n",
       "      <td>0.5</td>\n",
       "      <td>...</td>\n",
       "      <td>0.5</td>\n",
       "      <td>0.5</td>\n",
       "      <td>0.5</td>\n",
       "      <td>1.5</td>\n",
       "      <td>0.5</td>\n",
       "      <td>1.0</td>\n",
       "      <td>1.0</td>\n",
       "      <td>0.5</td>\n",
       "      <td>0.5</td>\n",
       "      <td>0.5</td>\n",
       "    </tr>\n",
       "    <tr>\n",
       "      <th>0.5</th>\n",
       "      <td>50.5</td>\n",
       "      <td>19.0</td>\n",
       "      <td>50.5</td>\n",
       "      <td>51.0</td>\n",
       "      <td>51.5</td>\n",
       "      <td>36.5</td>\n",
       "      <td>52.5</td>\n",
       "      <td>4.5</td>\n",
       "      <td>53.5</td>\n",
       "      <td>54.0</td>\n",
       "      <td>...</td>\n",
       "      <td>85.0</td>\n",
       "      <td>131.0</td>\n",
       "      <td>42.0</td>\n",
       "      <td>50.0</td>\n",
       "      <td>60.5</td>\n",
       "      <td>66.5</td>\n",
       "      <td>48.0</td>\n",
       "      <td>54.5</td>\n",
       "      <td>101.0</td>\n",
       "      <td>36.0</td>\n",
       "    </tr>\n",
       "    <tr>\n",
       "      <th>0.7</th>\n",
       "      <td>121.0</td>\n",
       "      <td>67.0</td>\n",
       "      <td>239.5</td>\n",
       "      <td>144.0</td>\n",
       "      <td>118.0</td>\n",
       "      <td>82.5</td>\n",
       "      <td>106.0</td>\n",
       "      <td>53.0</td>\n",
       "      <td>106.5</td>\n",
       "      <td>171.0</td>\n",
       "      <td>...</td>\n",
       "      <td>285.5</td>\n",
       "      <td>332.0</td>\n",
       "      <td>265.5</td>\n",
       "      <td>266.0</td>\n",
       "      <td>266.5</td>\n",
       "      <td>269.5</td>\n",
       "      <td>267.5</td>\n",
       "      <td>267.5</td>\n",
       "      <td>306.0</td>\n",
       "      <td>268.5</td>\n",
       "    </tr>\n",
       "  </tbody>\n",
       "</table>\n",
       "<p>3 rows × 474 columns</p>\n",
       "</div>"
      ],
      "text/plain": [
       "       0     1      2      3      4     5      6     7      8      9    ...  \\\n",
       "0.1    0.5   0.5    0.5    0.5    0.5   0.5    0.5   0.0    0.5    0.5  ...   \n",
       "0.5   50.5  19.0   50.5   51.0   51.5  36.5   52.5   4.5   53.5   54.0  ...   \n",
       "0.7  121.0  67.0  239.5  144.0  118.0  82.5  106.0  53.0  106.5  171.0  ...   \n",
       "\n",
       "       464    465    466    467    468    469    470    471    472    473  \n",
       "0.1    0.5    0.5    0.5    1.5    0.5    1.0    1.0    0.5    0.5    0.5  \n",
       "0.5   85.0  131.0   42.0   50.0   60.5   66.5   48.0   54.5  101.0   36.0  \n",
       "0.7  285.5  332.0  265.5  266.0  266.5  269.5  267.5  267.5  306.0  268.5  \n",
       "\n",
       "[3 rows x 474 columns]"
      ]
     },
     "execution_count": 8,
     "metadata": {},
     "output_type": "execute_result"
    }
   ],
   "source": [
    "empSal_12 = empData.quantile([.1,.5,.7],axis=1)\n",
    "empSal_12\n"
   ]
  },
  {
   "cell_type": "code",
   "execution_count": 9,
   "metadata": {},
   "outputs": [
    {
     "name": "stdout",
     "output_type": "stream",
     "text": [
      "Mean is : 81.1097046413502\n",
      "Median is : 81.0\n"
     ]
    }
   ],
   "source": [
    "# Mean, Median and Mode\n",
    "\n",
    "mean_cal = np.mean(empData['Job Time'])\n",
    "mean_med = np.median(empData['Job Time'])\n",
    "\n",
    "print('Mean is :', mean_cal)\n",
    "print('Median is :', mean_med)\n",
    "\n"
   ]
  },
  {
   "cell_type": "code",
   "execution_count": 10,
   "metadata": {},
   "outputs": [
    {
     "name": "stdout",
     "output_type": "stream",
     "text": [
      "Mode is : ModeResult(mode=array([32]), count=array([3]))\n"
     ]
    }
   ],
   "source": [
    "# Mode is in Scipy library\n",
    "from scipy import stats\n",
    "\n",
    "Age = [5,32,2,5,6,25,32,27,41,32]\n",
    "mean_mode = stats.mode(Age)\n",
    "print('Mode is :', mean_mode)"
   ]
  },
  {
   "cell_type": "code",
   "execution_count": 11,
   "metadata": {},
   "outputs": [
    {
     "data": {
      "text/plain": [
       "17057.63965326977"
      ]
     },
     "execution_count": 11,
     "metadata": {},
     "output_type": "execute_result"
    }
   ],
   "source": [
    "# Standard Deviation\n",
    "\n",
    "sal_Std = np.std(empData['Salary'])\n",
    "sal_Std"
   ]
  },
  {
   "cell_type": "code",
   "execution_count": 12,
   "metadata": {},
   "outputs": [
    {
     "data": {
      "text/plain": [
       "290963070.54080117"
      ]
     },
     "execution_count": 12,
     "metadata": {},
     "output_type": "execute_result"
    }
   ],
   "source": [
    "# Variance\n",
    "\n",
    "sal_Var = np.var(empData['Salary'])\n",
    "sal_Var"
   ]
  },
  {
   "cell_type": "code",
   "execution_count": 66,
   "metadata": {},
   "outputs": [],
   "source": [
    "# Plots & Distributions\n",
    "# Steps\n",
    "# 1.Define the x-axis and corresponding y-axis values.\n",
    "# 2.Plot them on canvas using .plot() function.\n",
    "# 3.Give a name to x-axis and y-axis using .xlabel() and .ylabel() functions.\n",
    "# 4.Give a title to your plot using .title() function.\n",
    "# 5. Finally, to view your plot, we use .show() function.\n"
   ]
  },
  {
   "cell_type": "code",
   "execution_count": 17,
   "metadata": {},
   "outputs": [
    {
     "data": {
      "image/png": "[encoded data removed]",
      "text/plain": [
       "<Figure size 432x288 with 1 Axes>"
      ]
     },
     "metadata": {
      "needs_background": "light"
     },
     "output_type": "display_data"
    }
   ],
   "source": [
    "import matplotlib.pyplot as plt\n",
    "\n",
    "# x axis values \n",
    "var1 = [1,2,3,4,5,6] \n",
    "# corresponding y axis values \n",
    "var2  = [5,6,2,4,6,9] \n",
    "  \n",
    "# plotting var1 and var2  \n",
    "plt.plot(var1, var2) \n",
    "\n",
    "  \n",
    "# naming the x axis \n",
    "plt.xlabel('Var 1 on x-axis') \n",
    "# naming the y axis \n",
    "plt.ylabel('Var 2 on y-axis') \n",
    "  \n",
    "# giving a title to my graph \n",
    "plt.title('Line/Run Chart') \n",
    "  \n",
    "# function to show the plot \n",
    "plt.show() "
   ]
  },
  {
   "cell_type": "code",
   "execution_count": null,
   "metadata": {},
   "outputs": [],
   "source": []
  },
  {
   "cell_type": "code",
   "execution_count": 19,
   "metadata": {},
   "outputs": [
    {
     "data": {
      "text/plain": [
       "array([12.50445294, 37.07901563, 17.47909643, 20.81638029, 46.3204107 ,\n",
       "       31.17563534, 27.23376042, 31.79216959, 47.31479253, 36.62825479,\n",
       "       11.60042115, 15.56744786, 21.3512998 , 17.98087613,  5.89578777,\n",
       "       36.88765397, 18.19530035, 45.69415104, 39.44521744, 23.48424729])"
      ]
     },
     "execution_count": 19,
     "metadata": {},
     "output_type": "execute_result"
    }
   ],
   "source": [
    "# Distributions\n",
    "\n",
    "\n",
    "uni_Distn = np.random.uniform(5.0, 50.0, 20)\n",
    "uni_Distn\n"
   ]
  },
  {
   "cell_type": "code",
   "execution_count": 21,
   "metadata": {},
   "outputs": [
    {
     "data": {
      "image/png": "[encoded data removed]",
      "text/plain": [
       "<Figure size 432x288 with 1 Axes>"
      ]
     },
     "metadata": {
      "needs_background": "light"
     },
     "output_type": "display_data"
    }
   ],
   "source": [
    "plt.hist(uni_Distn, 5)\n",
    "plt.show()"
   ]
  },
  {
   "cell_type": "code",
   "execution_count": 22,
   "metadata": {},
   "outputs": [
    {
     "data": {
      "text/plain": [
       "array([ 22.56608816,  49.52396171,  37.20027121, ...,  76.27547682,\n",
       "        48.93775581, -73.38182868])"
      ]
     },
     "execution_count": 22,
     "metadata": {},
     "output_type": "execute_result"
    }
   ],
   "source": [
    "# Normal Distribution Data\n",
    "\n",
    "nor_Distn= np.random.normal(5.0, 50.0, 2000)\n",
    "nor_Distn"
   ]
  },
  {
   "cell_type": "code",
   "execution_count": 25,
   "metadata": {},
   "outputs": [
    {
     "data": {
      "image/png": "[encoded data removed]",
      "text/plain": [
       "<Figure size 432x288 with 1 Axes>"
      ]
     },
     "metadata": {
      "needs_background": "light"
     },
     "output_type": "display_data"
    }
   ],
   "source": [
    "plt.hist(nor_Distn, 10)\n",
    "plt.show()"
   ]
  },
  {
   "cell_type": "code",
   "execution_count": 28,
   "metadata": {},
   "outputs": [
    {
     "data": {
      "image/png": "[encoded data removed]",
      "text/plain": [
       "<Figure size 432x288 with 1 Axes>"
      ]
     },
     "metadata": {
      "needs_background": "light"
     },
     "output_type": "display_data"
    }
   ],
   "source": [
    "# Bernoulli / Binomial Dist'n\n",
    "\n",
    "binom_Distn = np.random.binomial(10,0.5,100)\n",
    "plt.hist(binom_Distn,16,color='Green')\n",
    "# comment below line and show\n",
    "plt.show()"
   ]
  },
  {
   "cell_type": "code",
   "execution_count": 29,
   "metadata": {},
   "outputs": [
    {
     "data": {
      "text/plain": [
       "(array([  15.,  167.,  683., 1840., 2677., 2451., 1461.,  538.,  142.,\n",
       "          26.]),\n",
       " array([26., 31., 36., 41., 46., 51., 56., 61., 66., 71., 76.]),\n",
       " <BarContainer object of 10 artists>)"
      ]
     },
     "execution_count": 29,
     "metadata": {},
     "output_type": "execute_result"
    },
    {
     "data": {
      "image/png": "[encoded data removed]",
      "text/plain": [
       "<Figure size 432x288 with 1 Axes>"
      ]
     },
     "metadata": {
      "needs_background": "light"
     },
     "output_type": "display_data"
    }
   ],
   "source": [
    "\n",
    "poi_Distn=np.random.poisson(50, 10000)\n",
    "plt.hist(poi_Distn,10,color='Brown')\n",
    "\n",
    "#plt.show()"
   ]
  },
  {
   "cell_type": "code",
   "execution_count": null,
   "metadata": {},
   "outputs": [],
   "source": []
  },
  {
   "cell_type": "code",
   "execution_count": null,
   "metadata": {},
   "outputs": [],
   "source": []
  },
  {
   "cell_type": "code",
   "execution_count": 30,
   "metadata": {},
   "outputs": [
    {
     "data": {
      "image/png": "[encoded data removed]",
      "text/plain": [
       "<Figure size 432x288 with 1 Axes>"
      ]
     },
     "metadata": {
      "needs_background": "light"
     },
     "output_type": "display_data"
    }
   ],
   "source": [
    "# Histogram\n",
    "\n",
    "plt.hist(empData['Prev Exp'], 5)\n",
    "plt.show()"
   ]
  },
  {
   "cell_type": "code",
   "execution_count": 31,
   "metadata": {},
   "outputs": [
    {
     "data": {
      "image/png": "[encoded data removed]",
      "text/plain": [
       "<Figure size 432x288 with 1 Axes>"
      ]
     },
     "metadata": {
      "needs_background": "light"
     },
     "output_type": "display_data"
    }
   ],
   "source": [
    "# Scatter Plot\n",
    "\n",
    "plt.scatter(empData['Jobcat'], empData['Salary'])\n",
    "plt.show()\n"
   ]
  },
  {
   "cell_type": "code",
   "execution_count": 32,
   "metadata": {},
   "outputs": [
    {
     "data": {
      "image/png": "[encoded data removed]",
      "text/plain": [
       "<Figure size 432x288 with 1 Axes>"
      ]
     },
     "metadata": {
      "needs_background": "light"
     },
     "output_type": "display_data"
    }
   ],
   "source": [
    "# Another Scatter Plot\n",
    "\n",
    "Var1 = np.random.normal(5.0, 2.0, 100)\n",
    "Var2 = np.random.normal(10.0, 4.0, 100)\n",
    "\n",
    "plt.scatter(Var1, Var2)\n",
    "plt.show()"
   ]
  },
  {
   "cell_type": "code",
   "execution_count": 60,
   "metadata": {},
   "outputs": [
    {
     "data": {
      "text/plain": [
       "[<matplotlib.lines.Line2D at 0x939b930>]"
      ]
     },
     "execution_count": 60,
     "metadata": {},
     "output_type": "execute_result"
    },
    {
     "data": {
      "image/png": "[encoded data removed]",
      "text/plain": [
       "<Figure size 432x288 with 1 Axes>"
      ]
     },
     "metadata": {
      "needs_background": "light"
     },
     "output_type": "display_data"
    }
   ],
   "source": [
    "# Line chart\n",
    "\n",
    "sample=np.arange(5,15,0.5)\n",
    "plt.plot(sample,sample)"
   ]
  },
  {
   "cell_type": "code",
   "execution_count": 33,
   "metadata": {},
   "outputs": [
    {
     "data": {
      "text/plain": [
       "[<matplotlib.lines.Line2D at 0x62435d0>,\n",
       " <matplotlib.lines.Line2D at 0x6243490>,\n",
       " <matplotlib.lines.Line2D at 0x6243370>]"
      ]
     },
     "execution_count": 33,
     "metadata": {},
     "output_type": "execute_result"
    },
    {
     "data": {
      "image/png": "[encoded data removed]",
      "text/plain": [
       "<Figure size 432x288 with 1 Axes>"
      ]
     },
     "metadata": {
      "needs_background": "light"
     },
     "output_type": "display_data"
    }
   ],
   "source": [
    "# Line chart\n",
    "\n",
    "sample=np.arange(5,15,0.5)\n",
    "plt.plot(sample,sample,'r--',sample,sample**2,'b^',sample,sample**3,'gs')"
   ]
  },
  {
   "cell_type": "code",
   "execution_count": 35,
   "metadata": {},
   "outputs": [
    {
     "data": {
      "image/png": "[encoded data removed]",
      "text/plain": [
       "<Figure size 720x504 with 1 Axes>"
      ]
     },
     "metadata": {
      "needs_background": "light"
     },
     "output_type": "display_data"
    }
   ],
   "source": [
    "# boxplot\n",
    "np.random.seed(10) \n",
    "norm_data = np.random.normal(10, 10, 100) \n",
    "  \n",
    "fig = plt.figure(figsize =(10, 7)) \n",
    "plt.boxplot(norm_data) \n",
    "plt.show() "
   ]
  },
  {
   "cell_type": "code",
   "execution_count": 36,
   "metadata": {},
   "outputs": [
    {
     "data": {
      "image/png": "[encoded data removed]",
      "text/plain": [
       "<Figure size 504x360 with 1 Axes>"
      ]
     },
     "metadata": {
      "needs_background": "light"
     },
     "output_type": "display_data"
    }
   ],
   "source": [
    "# Multiple boxplots in the same graph\n",
    "\n",
    "np.random.seed(10) \n",
    "  \n",
    "series1 = np.random.normal(100, 10, 100) \n",
    "series2 = np.random.normal(90, 20, 100) \n",
    "series3 = np.random.normal(80, 30, 100) \n",
    "series4 = np.random.normal(70, 40, 100) \n",
    "club_data = [series1, series2, series3, series4] \n",
    "  \n",
    "fig = plt.figure(figsize =(7, 5)) \n",
    "  \n",
    "# Creating Axes instance \n",
    "ax = fig.add_axes([0, 0, 1, 1])  \n",
    "# Creating plot \n",
    "bp = ax.boxplot(club_data) \n",
    "  \n",
    "# show plot \n",
    "plt.show() "
   ]
  },
  {
   "cell_type": "code",
   "execution_count": 69,
   "metadata": {},
   "outputs": [],
   "source": [
    "# Pie Chart Steps:\n",
    "# Use  plt.pie()\n",
    "# Define portion of each label \n",
    "# Define the labels \n",
    "# Color for each label is defined using a list called colors.\n",
    "# shadow = True will show a shadow beneath each label in pie-chart.\n",
    "# startangle rotates the start of the pie chart by given degrees counterclockwise from the x-axis.\n",
    "# explode is used to set the fraction of radius with which we offset each wedge.\n",
    "# autopct is used to format the value of each label. We set it to show the percentage value only upto 1 decimal place."
   ]
  },
  {
   "cell_type": "code",
   "execution_count": 38,
   "metadata": {},
   "outputs": [
    {
     "data": {
      "image/png": "[encoded data removed]",
      "text/plain": [
       "<Figure size 432x288 with 1 Axes>"
      ]
     },
     "metadata": {},
     "output_type": "display_data"
    }
   ],
   "source": [
    "# Pie chart\n",
    "\n",
    "# portion covered by each label \n",
    "percentages = [2, 5, 8, 6] \n",
    "\n",
    "# Categories \n",
    "fruits = ['Guava', 'Banana', 'Mangoes', 'Orange'] \n",
    "  \n",
    "# Shaded colours\n",
    "colors = ['y', 'g', 'r', 'b'] \n",
    "  \n",
    "# plotting the pie chart \n",
    "plt.pie(percentages, labels = fruits, colors=colors,  \n",
    "        startangle=60, shadow = True, explode = (0, 0, 0.1, 0), \n",
    "        radius = 1.5, autopct = '%5.6f%%') \n",
    "  \n",
    "# Showing legend \n",
    "plt.legend() \n",
    "  \n",
    "# showing the plot \n",
    "plt.show() "
   ]
  },
  {
   "cell_type": "code",
   "execution_count": null,
   "metadata": {},
   "outputs": [],
   "source": []
  }
 ],
 "metadata": {
  "kernelspec": {
   "display_name": "Python 3",
   "language": "python",
   "name": "python3"
  },
  "language_info": {
   "codemirror_mode": {
    "name": "ipython",
    "version": 3
   },
   "file_extension": ".py",
   "mimetype": "text/x-python",
   "name": "python",
   "nbconvert_exporter": "python",
   "pygments_lexer": "ipython3",
   "version": "3.7.6"
  }
 },
 "nbformat": 4,
 "nbformat_minor": 4
}
