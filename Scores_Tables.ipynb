{
 "cells": [
  {
   "cell_type": "code",
   "execution_count": 1,
   "metadata": {},
   "outputs": [],
   "source": [
    "# Z- Score"
   ]
  },
  {
   "cell_type": "code",
   "execution_count": 2,
   "metadata": {},
   "outputs": [],
   "source": [
    "# z-score tells us how many standard deviations away a value is from the mean\n",
    "# We use the following formula to calculate a z-score:\n",
    "# z = (X – μ) / σ\n",
    "\n",
    "# scipy.stats.zscore\n",
    "# scipy.stats.zscore(data, axis=0, ddof=0, nan_policy=’propagate’)\n",
    "# data: an array like object containing data\n",
    "# axis: the axis along which to calculate the z-scores. Default is 0.\n",
    "# ddof: degrees of freedom correction in the calculation of the standard deviation. Default is 0.\n",
    "# nan_policy: how to handle when input contains nan. Default is propagate, which returns nan. \n",
    "#             ‘raise’ throws an error and ‘omit’ performs calculations ignoring nan values.\n"
   ]
  },
  {
   "cell_type": "code",
   "execution_count": 1,
   "metadata": {},
   "outputs": [],
   "source": [
    "import numpy as np\n",
    "import pandas as pd\n",
    "import scipy.stats as stats"
   ]
  },
  {
   "cell_type": "code",
   "execution_count": 2,
   "metadata": {},
   "outputs": [
    {
     "data": {
      "text/plain": [
       "array([-0.56011203, -1.40028008, -1.40028008,  0.56011203,  0.56011203,\n",
       "        0.56011203,  0.        ,  1.6803361 ])"
      ]
     },
     "execution_count": 2,
     "metadata": {},
     "output_type": "execute_result"
    }
   ],
   "source": [
    "data = np.array([8, 5, 5, 12, 12, 12, 10, 16])\n",
    "stats.zscore(data)"
   ]
  },
  {
   "cell_type": "code",
   "execution_count": 3,
   "metadata": {},
   "outputs": [
    {
     "name": "stdout",
     "output_type": "stream",
     "text": [
      "10.0\n"
     ]
    }
   ],
   "source": [
    "print(np.mean(data))"
   ]
  },
  {
   "cell_type": "code",
   "execution_count": 4,
   "metadata": {},
   "outputs": [
    {
     "name": "stdout",
     "output_type": "stream",
     "text": [
      "3.570714214271425\n"
     ]
    }
   ],
   "source": [
    "print(np.std(data))"
   ]
  },
  {
   "cell_type": "code",
   "execution_count": 1,
   "metadata": {},
   "outputs": [],
   "source": [
    "# Which means......\n",
    "# The first value 8 is 0.56011203 standard deviations below the mean\n",
    "# The value 10 is 0 standard deviations away from the mean\n",
    "# The value 16 is 1.6803361 standard deviations above the mean"
   ]
  },
  {
   "cell_type": "code",
   "execution_count": 6,
   "metadata": {},
   "outputs": [
    {
     "data": {
      "text/plain": [
       "array([[-1.34164079, -0.4472136 ,  0.4472136 ,  1.34164079],\n",
       "       [-1.34164079, -0.4472136 ,  0.4472136 ,  1.34164079],\n",
       "       [-1.34164079, -0.4472136 ,  0.4472136 ,  1.34164079]])"
      ]
     },
     "execution_count": 6,
     "metadata": {},
     "output_type": "execute_result"
    }
   ],
   "source": [
    "# Multi-Dimensional Arrays\n",
    "\n",
    "data = np.array([[1, 2, 3, 4],\n",
    "                 [5, 6, 7, 8],\n",
    "                 [9, 10, 11, 12]])\n",
    "stats.zscore(data, axis=1)\n",
    "# The first value of “1” in the first array is 1.34164079 standard deviations below the mean of its array"
   ]
  },
  {
   "cell_type": "code",
   "execution_count": 7,
   "metadata": {},
   "outputs": [
    {
     "data": {
      "text/html": [
       "<div>\n",
       "<style scoped>\n",
       "    .dataframe tbody tr th:only-of-type {\n",
       "        vertical-align: middle;\n",
       "    }\n",
       "\n",
       "    .dataframe tbody tr th {\n",
       "        vertical-align: top;\n",
       "    }\n",
       "\n",
       "    .dataframe thead th {\n",
       "        text-align: right;\n",
       "    }\n",
       "</style>\n",
       "<table border=\"1\" class=\"dataframe\">\n",
       "  <thead>\n",
       "    <tr style=\"text-align: right;\">\n",
       "      <th></th>\n",
       "      <th>A</th>\n",
       "      <th>B</th>\n",
       "      <th>C</th>\n",
       "      <th>D</th>\n",
       "      <th>E</th>\n",
       "    </tr>\n",
       "  </thead>\n",
       "  <tbody>\n",
       "    <tr>\n",
       "      <th>0</th>\n",
       "      <td>3</td>\n",
       "      <td>14</td>\n",
       "      <td>10</td>\n",
       "      <td>1</td>\n",
       "      <td>13</td>\n",
       "    </tr>\n",
       "    <tr>\n",
       "      <th>1</th>\n",
       "      <td>1</td>\n",
       "      <td>10</td>\n",
       "      <td>7</td>\n",
       "      <td>9</td>\n",
       "      <td>7</td>\n",
       "    </tr>\n",
       "    <tr>\n",
       "      <th>2</th>\n",
       "      <td>0</td>\n",
       "      <td>3</td>\n",
       "      <td>1</td>\n",
       "      <td>2</td>\n",
       "      <td>0</td>\n",
       "    </tr>\n",
       "    <tr>\n",
       "      <th>3</th>\n",
       "      <td>7</td>\n",
       "      <td>2</td>\n",
       "      <td>7</td>\n",
       "      <td>6</td>\n",
       "      <td>7</td>\n",
       "    </tr>\n",
       "    <tr>\n",
       "      <th>4</th>\n",
       "      <td>5</td>\n",
       "      <td>4</td>\n",
       "      <td>6</td>\n",
       "      <td>1</td>\n",
       "      <td>12</td>\n",
       "    </tr>\n",
       "  </tbody>\n",
       "</table>\n",
       "</div>"
      ],
      "text/plain": [
       "   A   B   C  D   E\n",
       "0  3  14  10  1  13\n",
       "1  1  10   7  9   7\n",
       "2  0   3   1  2   0\n",
       "3  7   2   7  6   7\n",
       "4  5   4   6  1  12"
      ]
     },
     "execution_count": 7,
     "metadata": {},
     "output_type": "execute_result"
    }
   ],
   "source": [
    "# Using Pandas DataFrames\n",
    "data = pd.DataFrame(np.random.randint(0, 15, size=(5, 5)), columns=['A', 'B', 'C', 'D','E'])\n",
    "data"
   ]
  },
  {
   "cell_type": "code",
   "execution_count": 8,
   "metadata": {},
   "outputs": [
    {
     "data": {
      "text/html": [
       "<div>\n",
       "<style scoped>\n",
       "    .dataframe tbody tr th:only-of-type {\n",
       "        vertical-align: middle;\n",
       "    }\n",
       "\n",
       "    .dataframe tbody tr th {\n",
       "        vertical-align: top;\n",
       "    }\n",
       "\n",
       "    .dataframe thead th {\n",
       "        text-align: right;\n",
       "    }\n",
       "</style>\n",
       "<table border=\"1\" class=\"dataframe\">\n",
       "  <thead>\n",
       "    <tr style=\"text-align: right;\">\n",
       "      <th></th>\n",
       "      <th>A</th>\n",
       "      <th>B</th>\n",
       "      <th>C</th>\n",
       "      <th>D</th>\n",
       "      <th>E</th>\n",
       "    </tr>\n",
       "  </thead>\n",
       "  <tbody>\n",
       "    <tr>\n",
       "      <th>0</th>\n",
       "      <td>-0.078087</td>\n",
       "      <td>1.598157</td>\n",
       "      <td>1.298813</td>\n",
       "      <td>-0.878438</td>\n",
       "      <td>1.125130</td>\n",
       "    </tr>\n",
       "    <tr>\n",
       "      <th>1</th>\n",
       "      <td>-0.858956</td>\n",
       "      <td>0.734288</td>\n",
       "      <td>0.273434</td>\n",
       "      <td>1.631385</td>\n",
       "      <td>-0.173097</td>\n",
       "    </tr>\n",
       "    <tr>\n",
       "      <th>2</th>\n",
       "      <td>-1.249390</td>\n",
       "      <td>-0.777482</td>\n",
       "      <td>-1.777323</td>\n",
       "      <td>-0.564710</td>\n",
       "      <td>-1.687695</td>\n",
       "    </tr>\n",
       "    <tr>\n",
       "      <th>3</th>\n",
       "      <td>1.483651</td>\n",
       "      <td>-0.993449</td>\n",
       "      <td>0.273434</td>\n",
       "      <td>0.690201</td>\n",
       "      <td>-0.173097</td>\n",
       "    </tr>\n",
       "    <tr>\n",
       "      <th>4</th>\n",
       "      <td>0.702782</td>\n",
       "      <td>-0.561514</td>\n",
       "      <td>-0.068359</td>\n",
       "      <td>-0.878438</td>\n",
       "      <td>0.908759</td>\n",
       "    </tr>\n",
       "  </tbody>\n",
       "</table>\n",
       "</div>"
      ],
      "text/plain": [
       "          A         B         C         D         E\n",
       "0 -0.078087  1.598157  1.298813 -0.878438  1.125130\n",
       "1 -0.858956  0.734288  0.273434  1.631385 -0.173097\n",
       "2 -1.249390 -0.777482 -1.777323 -0.564710 -1.687695\n",
       "3  1.483651 -0.993449  0.273434  0.690201 -0.173097\n",
       "4  0.702782 -0.561514 -0.068359 -0.878438  0.908759"
      ]
     },
     "execution_count": 8,
     "metadata": {},
     "output_type": "execute_result"
    }
   ],
   "source": [
    "data.apply(stats.zscore)\n",
    "# The first value of “11” in the first column is 1.248040 standard deviations above the mean value of its column"
   ]
  },
  {
   "cell_type": "code",
   "execution_count": 10,
   "metadata": {},
   "outputs": [
    {
     "data": {
      "text/plain": [
       "0.1216417367479479"
      ]
     },
     "execution_count": 10,
     "metadata": {},
     "output_type": "execute_result"
    }
   ],
   "source": [
    "# Determining the p-value associated with a certain t-score that results from a hypothesis test\n",
    "# Syntax:  scipy.stats.t.sf()\n",
    "# scipy.stats.t.sf(abs(x), df) .....where x is t-score and df is degree of freedom\n",
    "\n",
    "# Left-tailed test\n",
    "import scipy.stats\n",
    "#find p-value\n",
    "pValue = scipy.stats.t.sf(abs(-1.24), df=10)\n",
    "pValue\n",
    "# The p-value is 0.1216. If we use a significance level of α = 0.05, we would fail to reject the null hypothesis"
   ]
  },
  {
   "cell_type": "code",
   "execution_count": 11,
   "metadata": {},
   "outputs": [
    {
     "data": {
      "text/plain": [
       "0.1216417367479479"
      ]
     },
     "execution_count": 11,
     "metadata": {},
     "output_type": "execute_result"
    }
   ],
   "source": [
    "# Right-tailed test\n",
    "pValue = scipy.stats.t.sf(abs(1.24), df=10)\n",
    "pValue\n",
    "# The p-value is 0.1216. If we use a significance level of α = 0.05, we would fail to reject the null hypothesis"
   ]
  },
  {
   "cell_type": "code",
   "execution_count": 12,
   "metadata": {},
   "outputs": [
    {
     "data": {
      "text/plain": [
       "0.22803901531680093"
      ]
     },
     "execution_count": 12,
     "metadata": {},
     "output_type": "execute_result"
    }
   ],
   "source": [
    "# Two-tailed test\n",
    "scipy.stats.t.sf(abs(1.24), df=22)*2"
   ]
  },
  {
   "cell_type": "code",
   "execution_count": 13,
   "metadata": {},
   "outputs": [
    {
     "name": "stdout",
     "output_type": "stream",
     "text": [
      "Left tail test value is:  0.2742531177500736\n",
      "Right tail test value is:  0.06680720126885807\n",
      "Two tail test value is:  0.4237107971667934\n"
     ]
    }
   ],
   "source": [
    "# Z-Score test\n",
    "# Syntax: scipy.stats.norm.sf(abs(x)) where x is z-score\n",
    "\n",
    "# Left-tailed test\n",
    "z_lt = scipy.stats.norm.sf(abs(-0.60))\n",
    "print('Left tail test value is: ', z_lt)\n",
    "# Right-tailed test\n",
    "z_rt = scipy.stats.norm.sf(abs(1.5))\n",
    "print('Right tail test value is: ',z_rt)\n",
    "# Two-tailed test\n",
    "z_2t = scipy.stats.norm.sf(abs(0.8))*2\n",
    "print('Two tail test value is: ',z_2t)"
   ]
  },
  {
   "cell_type": "code",
   "execution_count": null,
   "metadata": {},
   "outputs": [],
   "source": []
  }
 ],
 "metadata": {
  "kernelspec": {
   "display_name": "Python 3",
   "language": "python",
   "name": "python3"
  },
  "language_info": {
   "codemirror_mode": {
    "name": "ipython",
    "version": 3
   },
   "file_extension": ".py",
   "mimetype": "text/x-python",
   "name": "python",
   "nbconvert_exporter": "python",
   "pygments_lexer": "ipython3",
   "version": "3.7.6"
  }
 },
 "nbformat": 4,
 "nbformat_minor": 4
}
